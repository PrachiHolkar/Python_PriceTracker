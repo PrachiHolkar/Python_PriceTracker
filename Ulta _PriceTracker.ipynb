{
 "cells": [
  {
   "cell_type": "code",
   "execution_count": 1,
   "id": "a6ca32ce",
   "metadata": {},
   "outputs": [],
   "source": [
    "# Importing required libraries\n",
    "\n",
    "from bs4 import BeautifulSoup\n",
    "import requests\n",
    "import pandas as pd\n",
    "import datetime\n",
    "import time\n",
    "import smtplib"
   ]
  },
  {
   "cell_type": "code",
   "execution_count": 2,
   "id": "395a55cf",
   "metadata": {},
   "outputs": [],
   "source": [
    "# Function to send an email notification when product prices drop below budget\n",
    "\n",
    "def send_email():\n",
    "    server = smtplib.SMTP('smtp.gmail.com:587')\n",
    "    server.ehlo()\n",
    "    server.starttls()\n",
    "    server.login('from@gmail.com','password')\n",
    "\n",
    "    subject = \"Found the Deal under $70!\"\n",
    "    body = \"\"\"The price has dropped! \n",
    "            Check it out here: \n",
    "            Snail Mucin: https://www.ulta.com/p/advanced-snail-96-mucin-power-essence-xlsImpprod15641052?sku=2504912,\n",
    "            Cleansing Foam: https://www.ulta.com/p/heartleaf-quercetinol-pore-deep-cleansing-foam-pimprod2048920?sku=2634189,\n",
    "            Serum: https://www.ulta.com/p/madagascar-centella-ampoule-pimprod2045880?sku=2626854\"\"\"\n",
    "\n",
    "    msg = f\"Subject: {subject}\\n\\n{body}\"\n",
    "    \n",
    "    server.sendmail('from@gmail.com', 'to@gmail.com', msg)"
   ]
  },
  {
   "cell_type": "code",
   "execution_count": 3,
   "id": "382e39cb",
   "metadata": {},
   "outputs": [],
   "source": [
    "# Function to check product prices, save data to CSV, and trigger email if needed\n",
    "def price_checker():\n",
    "    urls = [\n",
    "        'https://www.ulta.com/p/advanced-snail-96-mucin-power-essence-xlsImpprod15641052?sku=2504912',\n",
    "        'https://www.ulta.com/p/heartleaf-quercetinol-pore-deep-cleansing-foam-pimprod2048920?sku=2634189',\n",
    "        'https://www.ulta.com/p/madagascar-centella-ampoule-pimprod2045880?sku=2626854'\n",
    "    ]\n",
    "\n",
    "    data = []\n",
    "\n",
    "    today = datetime.date.today()\n",
    "\n",
    "    for url in urls:\n",
    "        page = requests.get(url)\n",
    "        soup = BeautifulSoup(page.text, 'html')\n",
    "\n",
    "        product_info = soup.find('div', class_='ProductInformation')\n",
    "        product_name = product_info.find('span', class_='Text-ds--title-5').text.strip()\n",
    "\n",
    "        product_price_info = soup.find('div', class_='ProductPricing')\n",
    "        product_price = product_price_info.find('span', class_='Text-ds--title-5').text.strip()\n",
    "\n",
    "        product_price = float(product_price.replace('$', '').strip())\n",
    "\n",
    "        data.append({\n",
    "            'Product': product_name,\n",
    "            'Price': product_price,\n",
    "            'Date': today\n",
    "        })\n",
    "\n",
    "    df = pd.DataFrame(data)\n",
    "\n",
    "    csv_file = 'product_data.csv'\n",
    "\n",
    "    df.to_csv(csv_file, index=False)\n",
    "\n",
    "    print(\"\\nFinal Data:\")\n",
    "    print(df)\n",
    "    \n",
    "    total_price = df['Price'].sum()\n",
    "    print(f\"\\nToday's Total: ${total_price}\")\n",
    "    \n",
    "    if(float(total_price) < 70):\n",
    "        send_email()"
   ]
  },
  {
   "cell_type": "code",
   "execution_count": 4,
   "id": "fcd7e134",
   "metadata": {},
   "outputs": [],
   "source": [
    "# Run the price checker every 12 hours (43200 seconds)\n",
    "while(True):\n",
    "    price_checker()\n",
    "    time.sleep(43200)"
   ]
  },
  {
   "cell_type": "code",
   "execution_count": null,
   "id": "35e1e257",
   "metadata": {},
   "outputs": [],
   "source": []
  },
  {
   "cell_type": "code",
   "execution_count": null,
   "id": "1e0b055f",
   "metadata": {},
   "outputs": [],
   "source": []
  }
 ],
 "metadata": {
  "kernelspec": {
   "display_name": "Python 3 (ipykernel)",
   "language": "python",
   "name": "python3"
  },
  "language_info": {
   "codemirror_mode": {
    "name": "ipython",
    "version": 3
   },
   "file_extension": ".py",
   "mimetype": "text/x-python",
   "name": "python",
   "nbconvert_exporter": "python",
   "pygments_lexer": "ipython3",
   "version": "3.9.13"
  }
 },
 "nbformat": 4,
 "nbformat_minor": 5
}
